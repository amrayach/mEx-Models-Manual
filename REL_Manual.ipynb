{
 "cells": [
  {
   "cell_type": "markdown",
   "metadata": {
    "collapsed": true,
    "pycharm": {
     "name": "#%% md\n"
    }
   },
   "source": [
    "# Relation Extraction\n",
    "## Setup:\n",
    "1. Download the **RelExtraction** Model and place it in the **Resources** Folder.\n",
    "2. Create a Python virtual environment *(use: Pyenv, miniConda, etc..)*\n",
    "3. Activate VirtualEnv.\n",
    "4. Install needed python libraries *(python -m pip install -r requierments_rel.txt)*\n",
    "5. Now you'll have an isolated sandbox to experiment around."
   ]
  },
  {
   "cell_type": "markdown",
   "metadata": {
    "pycharm": {
     "name": "#%% md\n"
    }
   },
   "source": [
    "## Prediction\n",
    "import relevant libraries"
   ]
  },
  {
   "cell_type": "code",
   "execution_count": 1,
   "metadata": {
    "pycharm": {
     "name": "#%%\n"
    }
   },
   "outputs": [],
   "source": [
    "from Pipeline.pipeline_for_manual import MedicalIEPipeline\n",
    "import re\n",
    "from utils.document_helper import doc_to_brat\n",
    "import os"
   ]
  },
  {
   "cell_type": "markdown",
   "metadata": {},
   "source": [
    "Turn on the NER Server located under **NamedEntityRecognition/app.py** before starting. (Use the NER virtualEnv)"
   ]
  },
  {
   "cell_type": "code",
   "execution_count": 2,
   "metadata": {
    "pycharm": {
     "name": "#%%\n"
    }
   },
   "outputs": [
    {
     "name": "stderr",
     "output_type": "stream",
     "text": [
      "/home/ammer/miniconda3/envs/RelEx/lib/python3.6/site-packages/flair/embeddings.py:217: UserWarning: The given NumPy array is not writeable, and PyTorch does not support non-writeable tensors. This means you can write to the underlying (supposedly non-writeable) NumPy array using the tensor. You may want to copy the array to protect its data or make it writeable before converting it to a tensor. This type of warning will be suppressed for the rest of this program. (Triggered internally at  /pytorch/torch/csrc/utils/tensor_numpy.cpp:141.)\n",
      "  word_embedding = torch.FloatTensor(word_embedding)\n"
     ]
    }
   ],
   "source": [
    "# Create MedicalPipeline to Apply NER, RelExtraction sequentially and use\n",
    "# the results from NER model as input for the RelEx Model\n",
    "med_pipeline = MedicalIEPipeline()\n",
    "\n",
    "# Some Text as input\n",
    "input = \"\"\"Wegen Hypocalciaemie stationaer auf der 134 vom 22.7. bis 3.8.04 .\n",
    "Gutes Befinden , keine Kraempfe , keine GI-Symptome , kein epigastrischen Schmerzen , Stuhlgang normal .\n",
    "Letztes S-Calcium 1,94 unter orlaer Therapie mit Ca und Rocaltrol .\"\"\"\n",
    "\n",
    "def normalize_text(text):\n",
    "    return re.sub( '\\\\s+', ' ', text).strip()\n",
    "\n",
    "# Normalize the input is not so important\n",
    "text = normalize_text(input)\n",
    "\n",
    "# Apply the Pipeline on the given text\n",
    "doc = med_pipeline.get_annotated_document(text)\n",
    "\n",
    "# Convert the generated documemt to Brat Format\n",
    "brat = doc_to_brat(doc,\n",
    "                       selected_ents=None,\n",
    "                       selected_rels=None,\n",
    "                       enable_negation=False,\n",
    "                       enable_candidate_search=False,\n",
    "                       enable_wsd=False)"
   ]
  },
  {
   "cell_type": "markdown",
   "metadata": {},
   "source": [
    "### Display Results\n",
    "1. Text\n",
    "2. Named-Entities\n",
    "3. Relations among entities"
   ]
  },
  {
   "cell_type": "code",
   "execution_count": 3,
   "metadata": {
    "pycharm": {
     "name": "#%%\n"
    }
   },
   "outputs": [
    {
     "name": "stdout",
     "output_type": "stream",
     "text": [
      "Wegen Hypocalciaemie stationaer auf der 134 vom 22.7. bis 3.8.04 . Gutes Befinden , keine Kraempfe , keine GI-Symptome , kein epigastrischen Schmerzen , Stuhlgang normal . Letztes S-Calcium 1,94 unter orlaer Therapie mit Ca und Rocaltrol .\n",
      "---------------------\n",
      "\n"
     ]
    }
   ],
   "source": [
    "# Text\n",
    "print(brat['text'])\n",
    "print('---------------------\\n')"
   ]
  },
  {
   "cell_type": "code",
   "execution_count": 4,
   "metadata": {
    "pycharm": {
     "name": "#%%\n"
    }
   },
   "outputs": [
    {
     "name": "stdout",
     "output_type": "stream",
     "text": [
      "T1\tMedical_condition 6 20\tHypocalciaemie\n",
      "T2\tTreatment 21 31\tstationaer\n",
      "T3\tTime_information 48 64\t22.7. bis 3.8.04\n",
      "T4\tState_of_health 67 81\tGutes Befinden\n",
      "T5\tMedical_condition 90 98\tKraempfe\n",
      "T6\tMedical_condition 107 118\tGI-Symptome\n",
      "T7\tLocal_specification 126 140\tepigastrischen\n",
      "T8\tMedical_condition 141 150\tSchmerzen\n",
      "T9\tProcess 153 162\tStuhlgang\n",
      "T10\tState_of_health 163 169\tnormal\n",
      "T11\tBiological_chemistry 180 189\tS-Calcium\n",
      "T12\tMeasurement 190 194\t1,94\n",
      "T13\tMedication 201 207\torlaer\n",
      "T14\tTreatment 208 216\tTherapie\n",
      "T15\tMedication 221 223\tCa\n",
      "T16\tMedication 228 237\tRocaltrol\n"
     ]
    }
   ],
   "source": [
    "# Named-Entites\n",
    "for ent in brat['entities']:\n",
    "    print(ent[0]+'\\t'+ent[1][:1]+ent[1].lower()[1:]+' '+str(ent[2][0][0])+' '+str(ent[2][0][1])+'\\t'+ent[3])"
   ]
  },
  {
   "cell_type": "code",
   "execution_count": 5,
   "metadata": {
    "pycharm": {
     "name": "#%%\n"
    }
   },
   "outputs": [
    {
     "name": "stdout",
     "output_type": "stream",
     "text": [
      "R1\tconsequence arg1:T1 arg2:T2\n",
      "R2\thas_time_info arg1:T1 arg2:T3\n",
      "R3\thas_time_info arg1:T2 arg2:T3\n",
      "R4\thasstate arg1:T5 arg2:T4\n",
      "R5\thasstate arg1:T6 arg2:T4\n",
      "R6\tis_located arg1:T4 arg2:T7\n",
      "R7\thasstate arg1:T8 arg2:T4\n",
      "R8\thasstate arg1:T9 arg2:T4\n",
      "R9\thasstate arg1:T10 arg2:T4\n",
      "R10\thasstate arg1:T5 arg2:T6\n",
      "R11\tis_located arg1:T5 arg2:T7\n",
      "R12\tis_linked_to arg1:T5 arg2:T8\n",
      "R13\thasstate arg1:T9 arg2:T5\n",
      "R14\thasstate arg1:T5 arg2:T10\n",
      "R15\tis_located arg1:T6 arg2:T7\n",
      "R16\tis_linked_to arg1:T6 arg2:T8\n",
      "R17\tconsequence arg1:T6 arg2:T9\n",
      "R18\thasstate arg1:T6 arg2:T10\n",
      "R19\tis_located arg1:T8 arg2:T7\n",
      "R20\tis_located arg1:T9 arg2:T7\n",
      "R21\tis_located arg1:T10 arg2:T7\n",
      "R22\thasstate arg1:T9 arg2:T8\n",
      "R23\thasstate arg1:T8 arg2:T10\n",
      "R24\thasstate arg1:T9 arg2:T10\n",
      "R25\thas_measure arg1:T11 arg2:T12\n",
      "R26\ttreats arg1:T13 arg2:T11\n",
      "R27\tconsequence arg1:T11 arg2:T14\n",
      "R28\tconsequence arg1:T11 arg2:T15\n",
      "R29\ttreats arg1:T16 arg2:T11\n",
      "R30\thas_measure arg1:T13 arg2:T12\n",
      "R31\thas_measure arg1:T14 arg2:T12\n",
      "R32\tconsequence arg1:T12 arg2:T15\n",
      "R33\thas_measure arg1:T16 arg2:T12\n",
      "R34\tinvolves arg1:T14 arg2:T13\n",
      "R35\tinvolves arg1:T15 arg2:T13\n",
      "R36\tinvolves arg1:T16 arg2:T13\n",
      "R37\tinvolves arg1:T14 arg2:T15\n",
      "R38\tinvolves arg1:T14 arg2:T16\n",
      "R39\tconsequence arg1:T15 arg2:T16\n"
     ]
    }
   ],
   "source": [
    "# Relations:\n",
    "for rel in brat['relations']:\n",
    "    print(rel[0]+'\\t'+rel[1].split('-')[1].lower()+' arg1:'+rel[2][0][1]+' arg2:'+rel[2][1][1])"
   ]
  },
  {
   "cell_type": "markdown",
   "metadata": {},
   "source": [
    "## Background\n",
    "### Pipeline Architecture\n",
    "```python\n",
    "class MedicalIEPipeline:\n",
    "    _MEDICAL_IE_PIPELINE = None\n",
    "\n",
    "    @staticmethod\n",
    "    def get_pipeline():\n",
    "        if MedicalIEPipeline._MEDICAL_IE_PIPELINE is None:\n",
    "            # Create spacy pipeline\n",
    "            pipeline = spacy.load('de_core_news_sm', disable=['tagger', 'ner', 'textcat'])\n",
    "\n",
    "            # Create NER model\n",
    "            named_entity_recognition = NER(pipeline)\n",
    "\n",
    "            # Create REL model\n",
    "            relation_extraction = RelationExtraction(pipeline, model_file='../Resources/relation_extraction_mex_model(default_word_relative_concept_embeddings).pt')\n",
    "\n",
    "            # Add components to pipeline\n",
    "            pipeline.add_pipe(named_entity_recognition)\n",
    "            pipeline.add_pipe(relation_extraction)\n",
    "\n",
    "            MedicalIEPipeline._MEDICAL_IE_PIPELINE = pipeline\n",
    "\n",
    "        return MedicalIEPipeline._MEDICAL_IE_PIPELINE\n",
    "\n",
    "```"
   ]
  },
  {
   "cell_type": "code",
   "execution_count": null,
   "metadata": {},
   "outputs": [],
   "source": []
  }
 ],
 "metadata": {
  "kernelspec": {
   "display_name": "Python 3",
   "language": "python",
   "name": "python3"
  },
  "language_info": {
   "codemirror_mode": {
    "name": "ipython",
    "version": 3
   },
   "file_extension": ".py",
   "mimetype": "text/x-python",
   "name": "python",
   "nbconvert_exporter": "python",
   "pygments_lexer": "ipython3",
   "version": "3.6.12"
  }
 },
 "nbformat": 4,
 "nbformat_minor": 1
}
